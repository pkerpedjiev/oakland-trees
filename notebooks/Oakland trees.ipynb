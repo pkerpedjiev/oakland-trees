{
 "cells": [
  {
   "cell_type": "code",
   "execution_count": 1,
   "metadata": {},
   "outputs": [],
   "source": [
    "%load_ext autoreload\n",
    "%autoreload 2"
   ]
  },
  {
   "cell_type": "code",
   "execution_count": 2,
   "metadata": {},
   "outputs": [
    {
     "data": {
      "application/javascript": [
       "require([\"https://unpkg.com/higlass-labelled-points-track@0.1.11/dist/higlass-labelled-points-track\"],\n",
       "    function(hglib) {\n",
       "});\n"
      ],
      "text/plain": [
       "<IPython.core.display.Javascript object>"
      ]
     },
     "metadata": {},
     "output_type": "display_data"
    }
   ],
   "source": [
    "%%javascript\n",
    "require([\"https://unpkg.com/higlass-labelled-points-track@0.1.11/dist/higlass-labelled-points-track\"],\n",
    "    function(hglib) {\n",
    "});"
   ]
  },
  {
   "cell_type": "code",
   "execution_count": 3,
   "metadata": {},
   "outputs": [],
   "source": [
    "import clodius.tiles.geo as ctg\n",
    "\n",
    "def tileset_info():\n",
    "    tsinfo = ctg.tileset_info('../trees.geojson.gjdb')\n",
    "    tsinfo['min_pos'] = [-180, -180]\n",
    "    tsinfo['max_pos'] = [180, 180]\n",
    "    tsinfo['max_width'] = 360\n",
    "    return tsinfo"
   ]
  },
  {
   "cell_type": "code",
   "execution_count": 4,
   "metadata": {},
   "outputs": [
    {
     "name": "stdout",
     "output_type": "stream",
     "text": [
      "CPU times: user 8 µs, sys: 1e+03 ns, total: 9 µs\n",
      "Wall time: 12.2 µs\n"
     ]
    }
   ],
   "source": [
    "%%time\n",
    "\n",
    "import math\n",
    "def y2lat(a):\n",
    "  return 180.0/math.pi*(2.0*math.atan(math.exp(a*math.pi/180.0))-math.pi/2.0)\n",
    "def lat2y(a):\n",
    "  return 180.0/math.pi*math.log(math.tan(math.pi/4.0+a*(math.pi/180.0)/2.0))\n",
    "\n",
    "def point_tiles(z, x, y, width=1, height=1):\n",
    "    geo_tile = ctg.get_tiles('../trees.geojson.gjdb', z, x, y, width, height)\n",
    "    #print(\"width:\", width, \"height\", height)\n",
    "    #print(\"geo_tile:\", geo_tile.keys())\n",
    "    point_tile = [(\n",
    "            (z,x,y),[\n",
    "                {\n",
    "                    'x': u['geometry']['coordinates'][0],\n",
    "                    'y': -lat2y(u['geometry']['coordinates'][1]),\n",
    "                    'label': u['properties']['SPECIES']\n",
    "                }\n",
    "            for u in t]\n",
    "        )\n",
    "        for ((x,y), t) in geo_tile.items()\n",
    "    ]\n",
    "    return point_tile"
   ]
  },
  {
   "cell_type": "code",
   "execution_count": 7,
   "metadata": {
    "scrolled": false
   },
   "outputs": [
    {
     "name": "stdout",
     "output_type": "stream",
     "text": [
      "self.diskcache_directory /tmp/hgflask/dc True\n",
      "starting fuse\n"
     ]
    },
    {
     "name": "stderr",
     "output_type": "stream",
     "text": [
      "Process Process-7:\n",
      "Traceback (most recent call last):\n",
      "  File \"/Users/pete/miniconda3/envs/cenv4/lib/python3.6/site-packages/multiprocess/process.py\", line 258, in _bootstrap\n",
      "    self.run()\n",
      "  File \"/Users/pete/miniconda3/envs/cenv4/lib/python3.6/site-packages/multiprocess/process.py\", line 93, in run\n",
      "    self._target(*self._args, **self._kwargs)\n",
      "  File \"/Users/pete/projects/higlass-python/higlass/server.py\", line 276, in start_fuse\n",
      "    allow_other=True\n",
      "  File \"/Users/pete/miniconda3/envs/cenv4/lib/python3.6/site-packages/fuse.py\", line 711, in __init__\n",
      "    raise RuntimeError(err)\n",
      "RuntimeError: 1\n"
     ]
    },
    {
     "name": "stdout",
     "output_type": "stream",
     "text": [
      "starting fuse\n"
     ]
    },
    {
     "name": "stderr",
     "output_type": "stream",
     "text": [
      "Process Process-8:\n",
      "Traceback (most recent call last):\n",
      "  File \"/Users/pete/miniconda3/envs/cenv4/lib/python3.6/site-packages/multiprocess/process.py\", line 258, in _bootstrap\n",
      "    self.run()\n",
      "  File \"/Users/pete/miniconda3/envs/cenv4/lib/python3.6/site-packages/multiprocess/process.py\", line 93, in run\n",
      "    self._target(*self._args, **self._kwargs)\n",
      "  File \"/Users/pete/projects/higlass-python/higlass/server.py\", line 276, in start_fuse\n",
      "    allow_other=True\n",
      "  File \"/Users/pete/miniconda3/envs/cenv4/lib/python3.6/site-packages/fuse.py\", line 711, in __init__\n",
      "    raise RuntimeError(err)\n",
      "RuntimeError: 1\n"
     ]
    },
    {
     "name": "stdout",
     "output_type": "stream",
     "text": [
      "terminating: I2dFTWU6Rp2MDcX5CEJ-og\n",
      " * Serving Flask app \"higlass.server\" (lazy loading)\n",
      " * Environment: production\n",
      "   WARNING: Do not use the development server in a production environment.\n",
      "   Use a production WSGI server instead.\n",
      " * Debug mode: on\n"
     ]
    },
    {
     "data": {
      "application/vnd.jupyter.widget-view+json": {
       "model_id": "48bff20959d843f6b82f09f02b6c1d97",
       "version_major": 2,
       "version_minor": 0
      },
      "text/plain": [
       "HiGlassDisplay(viewconf={'editable': True, 'views': [{'uid': 'fKe_cQlNRGmkP2KsFOWyHQ', 'tracks': {'top': [{'ty…"
      ]
     },
     "metadata": {},
     "output_type": "display_data"
    }
   ],
   "source": [
    "import higlass.tilesets as hgti\n",
    "import clodius.tiles.points as hgpo\n",
    "import clodius.tiles.utils as hgut\n",
    "\n",
    "ts = hgti.Tileset(\n",
    "    uuid='N4KnFag3SI6LCVrUG9qfhA',\n",
    "    tileset_info=lambda: tileset_info(),\n",
    "    tiles=lambda tile_ids: \n",
    "            hgut.bundled_tiles_wrapper_2d(tile_ids,\n",
    "                    lambda z,x,y,width=1,height=1: point_tiles(z, x, y, width, height)))\n",
    "\n",
    "import higlass.client as hgc\n",
    "import higlass\n",
    "\n",
    "(display, server, viewconf) = higlass.display([\n",
    "    hgc.View([\n",
    "        hgc.Track(track_type='top-axis',),\n",
    "        hgc.Track(track_type='left-axis'),\n",
    "        hgc.Track(\n",
    "            track_type='osm-tiles',\n",
    "            position='center',\n",
    "            height=400,\n",
    "        ),\n",
    "        hgc.Track(\n",
    "            track_type='labelled-points-track',\n",
    "            position='center',\n",
    "            tileset=ts,\n",
    "            height=400,\n",
    "            options={\n",
    "                'xField': 'x',\n",
    "                'yField': 'y',\n",
    "                'labelField': 'label'\n",
    "            })\n",
    "    ],\n",
    "    initialXDomain=[-122.21, -122.18],\n",
    "    initialYDomain=[-40.89, -40.86])\n",
    "])\n",
    "display"
   ]
  },
  {
   "cell_type": "code",
   "execution_count": null,
   "metadata": {},
   "outputs": [],
   "source": []
  }
 ],
 "metadata": {
  "kernelspec": {
   "display_name": "Python 3",
   "language": "python",
   "name": "python3"
  },
  "language_info": {
   "codemirror_mode": {
    "name": "ipython",
    "version": 3
   },
   "file_extension": ".py",
   "mimetype": "text/x-python",
   "name": "python",
   "nbconvert_exporter": "python",
   "pygments_lexer": "ipython3",
   "version": "3.6.2"
  }
 },
 "nbformat": 4,
 "nbformat_minor": 2
}
