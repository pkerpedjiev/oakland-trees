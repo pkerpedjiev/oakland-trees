{
 "cells": [
  {
   "cell_type": "code",
   "execution_count": 92,
   "metadata": {},
   "outputs": [
    {
     "name": "stdout",
     "output_type": "stream",
     "text": [
      "The autoreload extension is already loaded. To reload it, use:\n",
      "  %reload_ext autoreload\n"
     ]
    }
   ],
   "source": [
    "%load_ext autoreload\n",
    "%autoreload 2"
   ]
  },
  {
   "cell_type": "code",
   "execution_count": 93,
   "metadata": {},
   "outputs": [
    {
     "data": {
      "application/javascript": [
       "require([\"https://unpkg.com/higlass-labelled-points-track@0.1.7/dist/higlass-labelled-points-track\"],\n",
       "    function(hglib) {\n",
       "});\n"
      ],
      "text/plain": [
       "<IPython.core.display.Javascript object>"
      ]
     },
     "metadata": {},
     "output_type": "display_data"
    }
   ],
   "source": [
    "%%javascript\n",
    "require([\"https://unpkg.com/higlass-labelled-points-track@0.1.7/dist/higlass-labelled-points-track\"],\n",
    "    function(hglib) {\n",
    "});"
   ]
  },
  {
   "cell_type": "code",
   "execution_count": 143,
   "metadata": {},
   "outputs": [],
   "source": [
    "import clodius.tiles.geo as ctg\n",
    "\n",
    "def tileset_info():\n",
    "    tsinfo = ctg.tileset_info('../trees.geojson.gjdb')\n",
    "    tsinfo['min_pos'] = [-180, -180]\n",
    "    tsinfo['max_pos'] = [180, 180]\n",
    "    tsinfo['max_width'] = 360\n",
    "    return tsinfo"
   ]
  },
  {
   "cell_type": "code",
   "execution_count": 198,
   "metadata": {},
   "outputs": [
    {
     "name": "stdout",
     "output_type": "stream",
     "text": [
      "CPU times: user 210 ms, sys: 117 ms, total: 328 ms\n",
      "Wall time: 334 ms\n"
     ]
    }
   ],
   "source": [
    "%%time\n",
    "\n",
    "import math\n",
    "def y2lat(a):\n",
    "  return 180.0/math.pi*(2.0*math.atan(math.exp(a*math.pi/180.0))-math.pi/2.0)\n",
    "def lat2y(a):\n",
    "  return 180.0/math.pi*math.log(math.tan(math.pi/4.0+a*(math.pi/180.0)/2.0))\n",
    "\n",
    "def point_tiles(z, x, y, width=1, height=1):\n",
    "    geo_tile = ctg.get_tiles('../trees.geojson.gjdb', z, x, y, width, height)\n",
    "    #print(\"width:\", width, \"height\", height)\n",
    "    #print(\"geo_tile:\", geo_tile.keys())\n",
    "    point_tile = [(\n",
    "            (z,x,y),[\n",
    "                {\n",
    "                    'x': u['geometry']['coordinates'][0],\n",
    "                    'y': -lat2y(u['geometry']['coordinates'][1]),\n",
    "                    'label': u['properties']['SPECIES']\n",
    "                }\n",
    "            for u in t]\n",
    "        )\n",
    "        for ((x,y), t) in geo_tile.items()\n",
    "    ]\n",
    "    return point_tile\n",
    "pt = point_tiles(0, 0, 0, 1, 2)"
   ]
  },
  {
   "cell_type": "code",
   "execution_count": 199,
   "metadata": {},
   "outputs": [
    {
     "data": {
      "text/plain": [
       "{'zoom_step': 1,\n",
       " 'tile_size': 256,\n",
       " 'max_zoom': 19,\n",
       " 'min_pos': [-180, -180],\n",
       " 'max_pos': [180, 180],\n",
       " 'max_data_length': 134217728,\n",
       " 'max_width': 360}"
      ]
     },
     "execution_count": 199,
     "metadata": {},
     "output_type": "execute_result"
    }
   ],
   "source": [
    "tileset_info()"
   ]
  },
  {
   "cell_type": "code",
   "execution_count": 200,
   "metadata": {},
   "outputs": [],
   "source": [
    "import higlass.tilesets as hgti\n",
    "import clodius.tiles.points as hgpo\n",
    "import clodius.tiles.utils as hgut\n",
    "\n",
    "ts = hgti.Tileset(\n",
    "    uuid='N4KnFag3SI6LCVrUG9qfhA',\n",
    "    tileset_info=lambda: tileset_info(),\n",
    "    tiles=lambda tile_ids: \n",
    "            hgut.bundled_tiles_wrapper_2d(tile_ids,\n",
    "                    lambda z,x,y,width=1,height=1: point_tiles(z, x, y, width, height)))"
   ]
  },
  {
   "cell_type": "code",
   "execution_count": 201,
   "metadata": {},
   "outputs": [
    {
     "data": {
      "text/plain": [
       "[('x.4.2.6',\n",
       "  [{'x': -122.29340351667594,\n",
       "    'y': -40.90076029033937,\n",
       "    'label': \"Fraxinus o. `Raywood'\"},\n",
       "   {'x': -122.22974983254042,\n",
       "    'y': -40.84971835024561,\n",
       "    'label': 'Cupressus sp'},\n",
       "   {'x': -122.1844987039783,\n",
       "    'y': -40.80227318079035,\n",
       "    'label': 'Liquidambar styraciflua'},\n",
       "   {'x': -122.19275474001617,\n",
       "    'y': -40.80643849849034,\n",
       "    'label': 'Tree well only'},\n",
       "   {'x': -122.17897424946341,\n",
       "    'y': -40.827880712685904,\n",
       "    'label': 'Platanus acerifolia'},\n",
       "   {'x': -122.18283045006751,\n",
       "    'y': -40.82445622482003,\n",
       "    'label': 'Eucalyptus nicholii'},\n",
       "   {'x': -122.18194822077876,\n",
       "    'y': -40.82750214360855,\n",
       "    'label': 'Tree well only'},\n",
       "   {'x': -122.1801896074043,\n",
       "    'y': -40.83012759222157,\n",
       "    'label': 'Ceratonia siliqua'},\n",
       "   {'x': -122.18808936055962,\n",
       "    'y': -40.805069480744535,\n",
       "    'label': 'Acer rubrum'},\n",
       "   {'x': -122.18631706002172, 'y': -40.828134855064945, 'label': 'Queen palm'},\n",
       "   {'x': -122.18576891356854,\n",
       "    'y': -40.82858109568397,\n",
       "    'label': 'Cinnamomum camphora'},\n",
       "   {'x': -122.28564552956131,\n",
       "    'y': -40.94261932892879,\n",
       "    'label': 'Pyrus calleryana cvs'},\n",
       "   {'x': -122.28378683428087, 'y': -40.935854878977096, 'label': 'Shrub'},\n",
       "   {'x': -122.28223568887071, 'y': -40.9380061763416, 'label': 'Prunus sp'},\n",
       "   {'x': -122.28166977239837, 'y': -40.937759333030776, 'label': 'Other'},\n",
       "   {'x': -122.2515685162703, 'y': -40.88180266172735, 'label': 'Pinus sp'},\n",
       "   {'x': -122.23773953309676, 'y': -40.885281196424444, 'label': 'Other'},\n",
       "   {'x': -122.24511511745628, 'y': -40.88863482388454, 'label': 'Prunus sp'},\n",
       "   {'x': -122.24425356035577,\n",
       "    'y': -40.89219439830654,\n",
       "    'label': 'Liquidambar styraciflua'},\n",
       "   {'x': -122.23343925578251, 'y': -40.8557013042502, 'label': 'Robinia sp'},\n",
       "   {'x': -122.24342444542407,\n",
       "    'y': -40.870321322567484,\n",
       "    'label': 'Liquidambar styraciflua'},\n",
       "   {'x': -122.24349334142397,\n",
       "    'y': -40.86433721786742,\n",
       "    'label': 'Platanus acerifolia'},\n",
       "   {'x': -122.17113751467619,\n",
       "    'y': -40.810375922577144,\n",
       "    'label': 'Tree well only'},\n",
       "   {'x': -122.25498177830633,\n",
       "    'y': -40.93734845981611,\n",
       "    'label': 'Lagerstroemia indica'},\n",
       "   {'x': -122.2517730561779,\n",
       "    'y': -40.939203422012184,\n",
       "    'label': 'Callistemon sp'},\n",
       "   {'x': -122.25041047759173,\n",
       "    'y': -40.93114995380915,\n",
       "    'label': 'Pyrus calleryana cvs'},\n",
       "   {'x': -122.21139679879239,\n",
       "    'y': -40.88588027682956,\n",
       "    'label': 'Liquidambar styraciflua'},\n",
       "   {'x': -122.20898690871103,\n",
       "    'y': -40.87597384033782,\n",
       "    'label': 'Tree well only'},\n",
       "   {'x': -122.20809975541825,\n",
       "    'y': -40.884956441613944,\n",
       "    'label': 'Liriodendron tulipifera'},\n",
       "   {'x': -122.2653138413724, 'y': -40.901935474659666, 'label': 'Photinia sp'},\n",
       "   {'x': -122.26108800432563,\n",
       "    'y': -40.90766654805747,\n",
       "    'label': 'Tree well only'},\n",
       "   {'x': -122.26183152952115,\n",
       "    'y': -40.91071020044827,\n",
       "    'label': 'Lophostemon confertus'},\n",
       "   {'x': -122.25615084626901,\n",
       "    'y': -40.91346445485558,\n",
       "    'label': 'Quercus agrifolia'},\n",
       "   {'x': -122.28488575259959, 'y': -40.909182692948505, 'label': 'Dead'},\n",
       "   {'x': -122.285191102029,\n",
       "    'y': -40.911101952100495,\n",
       "    'label': 'Callistemon sp'},\n",
       "   {'x': -122.28118763833304,\n",
       "    'y': -40.90735658791261,\n",
       "    'label': 'Koelreuteria sp'},\n",
       "   {'x': -122.2807949530881,\n",
       "    'y': -40.90717822618774,\n",
       "    'label': 'Magnolia grandiflora'},\n",
       "   {'x': -122.26685744137734,\n",
       "    'y': -40.93326144534333,\n",
       "    'label': 'Prunus cerasifera/blireiana'},\n",
       "   {'x': -122.266798720333,\n",
       "    'y': -40.93398983994922,\n",
       "    'label': 'Magnolia grandiflora'},\n",
       "   {'x': -122.2642961601619,\n",
       "    'y': -40.94080429377518,\n",
       "    'label': 'Platanus acerifolia'},\n",
       "   {'x': -122.26123092270329,\n",
       "    'y': -40.94244384313975,\n",
       "    'label': 'Pistacia chinensis'},\n",
       "   {'x': -122.26131768574847, 'y': -40.9416942765885, 'label': 'Unknown'},\n",
       "   {'x': -122.25955871991403,\n",
       "    'y': -40.93005963760608,\n",
       "    'label': 'Cordyline australis'},\n",
       "   {'x': -122.25926703111033,\n",
       "    'y': -40.930997165014055,\n",
       "    'label': 'Fraxinus sp'},\n",
       "   {'x': -122.26112972447599,\n",
       "    'y': -40.940869768709845,\n",
       "    'label': 'Liquidambar styraciflua'},\n",
       "   {'x': -122.22557100074307, 'y': -40.86959211023857, 'label': 'Fraxinus sp'},\n",
       "   {'x': -122.2291363861146, 'y': -40.86883000375971, 'label': 'Melaleuca sp'},\n",
       "   {'x': -122.21523654683683,\n",
       "    'y': -40.87320847413114,\n",
       "    'label': 'Pyrus kawakami'},\n",
       "   {'x': -122.22998610560411,\n",
       "    'y': -40.87618987222608,\n",
       "    'label': 'Pistacia chinensis'},\n",
       "   {'x': -122.22757723051923,\n",
       "    'y': -40.87663857160181,\n",
       "    'label': 'Tree well only'},\n",
       "   {'x': -122.21988088816911,\n",
       "    'y': -40.87245018395193,\n",
       "    'label': 'Lagerstroemia indica'},\n",
       "   {'x': -122.24954127303639,\n",
       "    'y': -40.91446144819311,\n",
       "    'label': 'Crataegus phaenopyrum'},\n",
       "   {'x': -122.24918401978967,\n",
       "    'y': -40.91649879400562,\n",
       "    'label': 'Prunus cerasifera/blireiana'},\n",
       "   {'x': -122.24522205670182,\n",
       "    'y': -40.923406791866554,\n",
       "    'label': 'Washingtonia robusta'},\n",
       "   {'x': -122.23583563458597,\n",
       "    'y': -40.89330238184043,\n",
       "    'label': 'Quercus agrifolia'},\n",
       "   {'x': -122.25673380911793,\n",
       "    'y': -40.947037606737666,\n",
       "    'label': 'Liquidambar styraciflua'},\n",
       "   {'x': -122.25486650985256,\n",
       "    'y': -40.95038159360727,\n",
       "    'label': 'Tree well only'},\n",
       "   {'x': -122.15566339747973,\n",
       "    'y': -40.85035190191341,\n",
       "    'label': 'Prunus cerasifera/blireiana'},\n",
       "   {'x': -122.15506261699615,\n",
       "    'y': -40.814403883343864,\n",
       "    'label': 'Platanus acerifolia'},\n",
       "   {'x': -122.136767134033,\n",
       "    'y': -40.850452314371886,\n",
       "    'label': 'Tree well only'},\n",
       "   {'x': -122.14061351681295,\n",
       "    'y': -40.85544956988189,\n",
       "    'label': 'Liquidambar styraciflua'},\n",
       "   {'x': -122.1499923655356,\n",
       "    'y': -40.81073265551259,\n",
       "    'label': 'Tree well only'},\n",
       "   {'x': -122.22548162121139, 'y': -40.893819617973406, 'label': 'Betula sp'},\n",
       "   {'x': -122.22653161152328, 'y': -40.90381331608714, 'label': 'Unknown'},\n",
       "   {'x': -122.2174773757005,\n",
       "    'y': -40.89508846391618,\n",
       "    'label': 'Liquidambar styraciflua'},\n",
       "   {'x': -122.20878952236501, 'y': -40.89040968697868, 'label': 'Acer sp'},\n",
       "   {'x': -122.26274606753678,\n",
       "    'y': -40.947497758885476,\n",
       "    'label': 'Tree well only'},\n",
       "   {'x': -122.27762230544388,\n",
       "    'y': -40.8908591863216,\n",
       "    'label': 'Gleditsia triacanthos'},\n",
       "   {'x': -122.27382926197993,\n",
       "    'y': -40.8800449706211,\n",
       "    'label': 'Lophostemon confertus'},\n",
       "   {'x': -122.27281860549921,\n",
       "    'y': -40.89222489337343,\n",
       "    'label': 'Lophostemon confertus'},\n",
       "   {'x': -122.27249463755996,\n",
       "    'y': -40.89511444323405,\n",
       "    'label': 'Tree well only'},\n",
       "   {'x': -122.27094179362038,\n",
       "    'y': -40.877928708396524,\n",
       "    'label': 'Platanus acerifolia'},\n",
       "   {'x': -122.26949399823656,\n",
       "    'y': -40.87704825221234,\n",
       "    'label': 'Pyrus kawakami'},\n",
       "   {'x': -122.26714221958353,\n",
       "    'y': -40.89822706310023,\n",
       "    'label': 'Platanus acerifolia'},\n",
       "   {'x': -122.26921354621781,\n",
       "    'y': -40.888854859133566,\n",
       "    'label': 'Platanus acerifolia'},\n",
       "   {'x': -122.19465563846686,\n",
       "    'y': -40.869741397263226,\n",
       "    'label': 'Pyrus calleryana cvs'},\n",
       "   {'x': -122.20245536456996,\n",
       "    'y': -40.88414824665516,\n",
       "    'label': 'Liquidambar styraciflua'},\n",
       "   {'x': -122.20159256949167,\n",
       "    'y': -40.88494444228404,\n",
       "    'label': 'Jacaranda acutifolia'},\n",
       "   {'x': -122.18635330689119, 'y': -40.87166057562879, 'label': 'Shrub'},\n",
       "   {'x': -122.18818117594522,\n",
       "    'y': -40.882280489477054,\n",
       "    'label': 'Tree well only'},\n",
       "   {'x': -122.19550247029488, 'y': -40.84026975436729, 'label': 'Shrub'},\n",
       "   {'x': -122.19213945244371,\n",
       "    'y': -40.83802179823796,\n",
       "    'label': 'Liquidambar styraciflua'},\n",
       "   {'x': -122.17156737423326,\n",
       "    'y': -40.84193684986218,\n",
       "    'label': 'Robinia hybrid'},\n",
       "   {'x': -122.18979523622062,\n",
       "    'y': -40.83865388715957,\n",
       "    'label': 'Platanus acerifolia'},\n",
       "   {'x': -122.17835112815055,\n",
       "    'y': -40.83719903089211,\n",
       "    'label': 'Tree well only'},\n",
       "   {'x': -122.18432934541477,\n",
       "    'y': -40.84450451874721,\n",
       "    'label': 'Magnolia grandiflora'},\n",
       "   {'x': -122.25909115755714,\n",
       "    'y': -40.916810102250096,\n",
       "    'label': \"Fraxinus o. `Raywood'\"},\n",
       "   {'x': -122.17125931805057,\n",
       "    'y': -40.83168314616496,\n",
       "    'label': 'Pyrus kawakami'},\n",
       "   {'x': -122.17238003733188,\n",
       "    'y': -40.83929369780212,\n",
       "    'label': 'Tree well only'},\n",
       "   {'x': -122.23342155890998,\n",
       "    'y': -40.89657244059687,\n",
       "    'label': 'Platanus acerifolia'},\n",
       "   {'x': -122.23468721283999,\n",
       "    'y': -40.893237576112526,\n",
       "    'label': 'Platanus acerifolia'},\n",
       "   {'x': -122.23281269803039, 'y': -40.90012039920501, 'label': 'Cedrus sp'},\n",
       "   {'x': -122.23917687117878, 'y': -40.89755891463181, 'label': 'Quercus sp'},\n",
       "   {'x': -122.2363244610548,\n",
       "    'y': -40.897695625507744,\n",
       "    'label': 'Prunus serrulata'},\n",
       "   {'x': -122.1996542117709, 'y': -40.87815777395391, 'label': 'Crataegus sp'},\n",
       "   {'x': -122.27665309368916,\n",
       "    'y': -40.905785967926185,\n",
       "    'label': 'Nerium oleander'},\n",
       "   {'x': -122.27481033009492, 'y': -40.90424986906954, 'label': 'Acer sp'},\n",
       "   {'x': -122.24295262797304, 'y': -40.95750106930322, 'label': 'Unknown'},\n",
       "   {'x': -122.23802614341544, 'y': -40.95689815506765, 'label': 'Unknown'},\n",
       "   {'x': -122.24880905023228,\n",
       "    'y': -40.934761698698274,\n",
       "    'label': 'Schinus molle'},\n",
       "   {'x': -122.27207492514881,\n",
       "    'y': -40.935992247637984,\n",
       "    'label': 'Pyrus kawakami'},\n",
       "   {'x': -122.27269525581569,\n",
       "    'y': -40.92678917823109,\n",
       "    'label': 'Prunus cerasifera/blireiana'},\n",
       "   {'x': -122.18969913108721,\n",
       "    'y': -40.86183762222566,\n",
       "    'label': 'Prunus cerasifera/blireiana'},\n",
       "   {'x': -122.18796579364978,\n",
       "    'y': -40.85163659299088,\n",
       "    'label': 'Prunus cerasifera/blireiana'},\n",
       "   {'x': -122.18152923938871,\n",
       "    'y': -40.84979198495834,\n",
       "    'label': 'Cinnamomum camphora'}])]"
      ]
     },
     "execution_count": 201,
     "metadata": {},
     "output_type": "execute_result"
    }
   ],
   "source": [
    "t = ts.tiles(['x.4.2.6'])\n",
    "t"
   ]
  },
  {
   "cell_type": "code",
   "execution_count": 206,
   "metadata": {
    "scrolled": false
   },
   "outputs": [
    {
     "name": "stdout",
     "output_type": "stream",
     "text": [
      "self.diskcache_directory /tmp/hgflask/dc True\n",
      "starting fuse\n"
     ]
    },
    {
     "name": "stderr",
     "output_type": "stream",
     "text": [
      "Process Process-67:\n",
      "Traceback (most recent call last):\n",
      "  File \"/Users/pete/miniconda3/envs/cenv4/lib/python3.6/site-packages/multiprocess/process.py\", line 258, in _bootstrap\n",
      "    self.run()\n",
      "  File \"/Users/pete/miniconda3/envs/cenv4/lib/python3.6/site-packages/multiprocess/process.py\", line 93, in run\n",
      "    self._target(*self._args, **self._kwargs)\n",
      "  File \"/Users/pete/projects/higlass-python/higlass/server.py\", line 276, in start_fuse\n",
      "    allow_other=True\n",
      "  File \"/Users/pete/miniconda3/envs/cenv4/lib/python3.6/site-packages/fuse.py\", line 711, in __init__\n",
      "    raise RuntimeError(err)\n",
      "RuntimeError: 1\n"
     ]
    },
    {
     "name": "stdout",
     "output_type": "stream",
     "text": [
      "starting fuse\n"
     ]
    },
    {
     "name": "stderr",
     "output_type": "stream",
     "text": [
      "Process Process-68:\n",
      "Traceback (most recent call last):\n",
      "  File \"/Users/pete/miniconda3/envs/cenv4/lib/python3.6/site-packages/multiprocess/process.py\", line 258, in _bootstrap\n",
      "    self.run()\n",
      "  File \"/Users/pete/miniconda3/envs/cenv4/lib/python3.6/site-packages/multiprocess/process.py\", line 93, in run\n",
      "    self._target(*self._args, **self._kwargs)\n",
      "  File \"/Users/pete/projects/higlass-python/higlass/server.py\", line 276, in start_fuse\n",
      "    allow_other=True\n",
      "  File \"/Users/pete/miniconda3/envs/cenv4/lib/python3.6/site-packages/fuse.py\", line 711, in __init__\n",
      "    raise RuntimeError(err)\n",
      "RuntimeError: 1\n"
     ]
    },
    {
     "name": "stdout",
     "output_type": "stream",
     "text": [
      "terminating: Oy1VaGGgTOSBIplhqN07Aw\n",
      " * Serving Flask app \"higlass.server\" (lazy loading)\n",
      " * Environment: production\n",
      "   WARNING: Do not use the development server in a production environment.\n",
      "   Use a production WSGI server instead.\n",
      " * Debug mode: on\n"
     ]
    },
    {
     "data": {
      "application/vnd.jupyter.widget-view+json": {
       "model_id": "f8cd569ca3734d77bc265b44e1d035b3",
       "version_major": 2,
       "version_minor": 0
      },
      "text/plain": [
       "HiGlassDisplay(viewconf={'editable': True, 'views': [{'uid': 'OiTSyfkCR823NeWgarMRUw', 'tracks': {'top': [{'ty…"
      ]
     },
     "metadata": {},
     "output_type": "display_data"
    }
   ],
   "source": [
    "import higlass.client as hgc\n",
    "import higlass\n",
    "\n",
    "(display, server, viewconf) = higlass.display([\n",
    "    hgc.View([\n",
    "        hgc.Track(\n",
    "            track_type='top-axis',\n",
    "        ),\n",
    "        hgc.Track(\n",
    "            track_type='left-axis'\n",
    "        ),\n",
    "        hgc.Track(\n",
    "            track_type='osm-tiles',\n",
    "            position='center',\n",
    "            height=400,\n",
    "        ),\n",
    "        hgc.Track(\n",
    "            track_type='labelled-points-track',\n",
    "            position='center',\n",
    "            tileset=ts,\n",
    "            height=400,\n",
    "            options={\n",
    "                'xField': 'x',\n",
    "                'yField': 'y',\n",
    "                'labelField': 'label'\n",
    "            })\n",
    "    ])\n",
    "])\n",
    "display"
   ]
  },
  {
   "cell_type": "code",
   "execution_count": 133,
   "metadata": {},
   "outputs": [],
   "source": [
    "!curl http://localhost:{server.port}/api/v1/tiles/?d=AIXwCgZ0S56Kf8fvm0m35w.1.0.0&d=AIXwCgZ0S56Kf8fvm0m35w.1.0.1&d=AIXwCgZ0S56Kf8fvm0m35w.1.1.0&d=AIXwCgZ0S56Kf8fvm0m35w.1.1.1&s=KSesRjP4SIWMbA34SILbwQ"
   ]
  },
  {
   "cell_type": "code",
   "execution_count": 134,
   "metadata": {},
   "outputs": [
    {
     "data": {
      "text/plain": [
       "55957"
      ]
     },
     "execution_count": 134,
     "metadata": {},
     "output_type": "execute_result"
    }
   ],
   "source": [
    "server.port"
   ]
  },
  {
   "cell_type": "code",
   "execution_count": null,
   "metadata": {},
   "outputs": [],
   "source": []
  }
 ],
 "metadata": {
  "kernelspec": {
   "display_name": "Python 3",
   "language": "python",
   "name": "python3"
  },
  "language_info": {
   "codemirror_mode": {
    "name": "ipython",
    "version": 3
   },
   "file_extension": ".py",
   "mimetype": "text/x-python",
   "name": "python",
   "nbconvert_exporter": "python",
   "pygments_lexer": "ipython3",
   "version": "3.6.2"
  }
 },
 "nbformat": 4,
 "nbformat_minor": 2
}
